{
 "cells": [
  {
   "cell_type": "code",
   "execution_count": 1,
   "metadata": {},
   "outputs": [],
   "source": [
    "import re\n",
    "import tweepy\n",
    "from tweepy import OAuthHandler\n",
    "from textblob import TextBlob"
   ]
  },
  {
   "cell_type": "code",
   "execution_count": 2,
   "metadata": {},
   "outputs": [],
   "source": [
    "class TwitterClient(object):\n",
    "    def __init__(self):\n",
    "        consumer_key = 'XXXXXXXXXXX'\n",
    "        consumer_secret = 'XXXXXXXXXXX'\n",
    "        access_token = 'XXXXXXXXXXX'\n",
    "        access_token_secret = 'XXXXXXXXXXX'\n",
    "        try:\n",
    "            self.auth = OAuthHandler(consumer_key,consumer_secret)\n",
    "            self.auth.set_access_token(access_token, access_token_secret)\n",
    "            self.api = tweepy.API(self.auth)\n",
    "        except:\n",
    "            print('Error : Authentication Failed')\n",
    "    def clean_tweet(self,tweet):\n",
    "        return ''.join(re.sub('(@[A-Za-Za-9]+)|[^0-9A-Za-z\\t])|(\\w+:\\/\\/\\S+)',''.tweets).split())\n",
    "    def get_tweet_sentimental(self,tweet):\n",
    "        analysis = TextBlob(self.clean_tweet(tweet))\n",
    "        if analysis.sentiment.polarity > 0:\n",
    "            return positive\n",
    "        elif analysis.sentiment.polarity == 0:\n",
    "            return neutral\n",
    "        else:\n",
    "            return negative\n",
    "    def get_tweets(self,query,count = 10):\n",
    "        tweets = []\n",
    "        try:\n",
    "            fetched_tweets = self.api.search(q = query,count = count)\n",
    "            for tweet in fetched_tweets:\n",
    "                parsed_tweets = {}\n",
    "                parsed_tweets['text'] = tweet.text\n",
    "                parsed_tweet['Sentiment'] = self.get_tweets_sentiment(tweet.text)\n",
    "                if tweets.retweet_count > 0:\n",
    "                    if parsed_tweet not in tweets:\n",
    "                        tweets.append(parsed_tweet)\n",
    "                else:\n",
    "                    tweets.append(parsed_tweet)\n",
    "            return tweets\n",
    "        except tweepy.TweepError as e:\n",
    "            print('error : '+str(e))"
   ]
  },
  {
   "cell_type": "code",
   "execution_count": 3,
   "metadata": {},
   "outputs": [],
   "source": [
    "def main():\n",
    "    api = TwitterClient()\n",
    "    tweets = api.get_tweets(query = 'Donald Trump', count = 200)\n",
    "    ptweets = 'Positive'\n",
    "    print(\"Positive Tweets Percentage : {}%\".format(100*len(ptweets)/len(tweets)))\n",
    "    ntweets ='Negative'\n",
    "    print(\"Positive Tweets Percentage : {}%\".format(100*len(ntweets)/len(tweets)))\n",
    "    print(\"Neutral Tweets Percentage : {}%\".format(100*(len(tweets)-(len(ntweets)+len(ptweets)))/len(tweets)))\n",
    "    print(\"Positive Tweets\")\n",
    "    for tweet in ptweets[:10]:\n",
    "        print(tweet['text'])\n",
    "    print(\"Negative Tweets\")\n",
    "    for tweet in ntweets[:10]:\n",
    "        print(tweet['text'])\n",
    "    if __name__ == '__main__':\n",
    "        main()"
   ]
  }
 ],
 "metadata": {
  "kernelspec": {
   "display_name": "Python 3",
   "language": "python",
   "name": "python3"
  },
  "language_info": {
   "codemirror_mode": {
    "name": "ipython",
    "version": 3
   },
   "file_extension": ".py",
   "mimetype": "text/x-python",
   "name": "python",
   "nbconvert_exporter": "python",
   "pygments_lexer": "ipython3",
   "version": "3.8.5"
  }
 },
 "nbformat": 4,
 "nbformat_minor": 4
}
